{
 "cells": [
  {
   "cell_type": "markdown",
   "id": "28651abd",
   "metadata": {},
   "source": [
    "# Question 1\n",
    "#### 1.1) \n",
    "chosen values are: a=3, b=4, c=2.2"
   ]
  },
  {
   "cell_type": "code",
   "execution_count": 80,
   "id": "e2923556",
   "metadata": {},
   "outputs": [],
   "source": [
    "import matplotlib.pyplot as plt\n",
    "import numpy as np\n",
    "a = 3\n",
    "b = 4\n",
    "c = 2.2\n",
    "f = lambda x: a + b*x + c*(x**2)\n",
    "x = np.linspace(-10,10)\n",
    "fx = np.array(list(map(f,x)))"
   ]
  },
  {
   "cell_type": "markdown",
   "id": "0e0b3763",
   "metadata": {},
   "source": [
    "#### 1.2)"
   ]
  },
  {
   "cell_type": "code",
   "execution_count": 83,
   "id": "cfbc2bb0",
   "metadata": {},
   "outputs": [
    {
     "data": {
      "image/png": "[encoded data removed]",
      "text/plain": [
       "<Figure size 432x288 with 1 Axes>"
      ]
     },
     "metadata": {
      "needs_background": "light"
     },
     "output_type": "display_data"
    }
   ],
   "source": [
    "plt.plot(x,fx)\n",
    "plt.show()"
   ]
  },
  {
   "cell_type": "markdown",
   "id": "58a2d8ea",
   "metadata": {},
   "source": [
    "#### 1.3"
   ]
  },
  {
   "cell_type": "code",
   "execution_count": 84,
   "id": "cb409335",
   "metadata": {},
   "outputs": [],
   "source": [
    "grad_f = lambda x: b + 2*c*x"
   ]
  },
  {
   "cell_type": "markdown",
   "id": "9cd8cae3",
   "metadata": {},
   "source": [
    "The minimum point for the function is -0.9090909"
   ]
  },
  {
   "cell_type": "markdown",
   "id": "a86cecc1",
   "metadata": {},
   "source": [
    "#### 1.4"
   ]
  },
  {
   "cell_type": "code",
   "execution_count": 85,
   "id": "a76a97c5",
   "metadata": {},
   "outputs": [],
   "source": [
    "def grad_update(grad,x,step):\n",
    "    return x-step*grad(x)"
   ]
  },
  {
   "cell_type": "markdown",
   "id": "ae901d43",
   "metadata": {},
   "source": [
    "#### 1.5)"
   ]
  },
  {
   "cell_type": "code",
   "execution_count": 86,
   "id": "63f63555",
   "metadata": {},
   "outputs": [],
   "source": [
    "x_k = 10\n",
    "while grad_f(x_k) >= 1e-6:\n",
    "    x_k = grad_update(grad_f,x_k,0.01)"
   ]
  },
  {
   "cell_type": "code",
   "execution_count": 87,
   "id": "ed7c2787",
   "metadata": {},
   "outputs": [
    {
     "data": {
      "text/plain": [
       "-0.9090906912205658"
      ]
     },
     "execution_count": 87,
     "metadata": {},
     "output_type": "execute_result"
    }
   ],
   "source": [
    "x_k"
   ]
  },
  {
   "cell_type": "markdown",
   "id": "a57fc4fa",
   "metadata": {},
   "source": [
    "The value we got is really close to the value we recieved from an anylitical solution. The difference between the results is from the size of the step which may not always converge exactly on the minimum. There are other factors which may contribute to the difference such as floating point precision, but that is not necessarily what happend here."
   ]
  },
  {
   "cell_type": "markdown",
   "id": "7eedcf98",
   "metadata": {},
   "source": [
    "#### 1.6)"
   ]
  },
  {
   "cell_type": "code",
   "execution_count": 128,
   "id": "bdd013a2",
   "metadata": {},
   "outputs": [],
   "source": [
    "steps = [0.001,0.01, 0.1,1,10]\n",
    "minimum = 1e10\n",
    "total_xs = []\n",
    "index = -1\n",
    "for i,step in enumerate(steps):\n",
    "    xs = []\n",
    "    x_k = 7\n",
    "    while abs(grad_f(x_k)) >= 1e-5:\n",
    "        xs.append(x_k)\n",
    "        x_k = grad_update(grad_f,x_k,step)\n",
    "    xs.append(x_k)\n",
    "    total_xs.append(xs)\n",
    "    if len(xs) < minimum:\n",
    "        minimum = len(xs)\n",
    "        index  = i"
   ]
  },
  {
   "cell_type": "code",
   "execution_count": 136,
   "id": "197e6827",
   "metadata": {},
   "outputs": [
    {
     "data": {
      "text/plain": [
       "[3417, 336, 27, 581, 191]"
      ]
     },
     "execution_count": 136,
     "metadata": {},
     "output_type": "execute_result"
    }
   ],
   "source": [
    "len_of_xs = [len(x) for x in total_xs]\n",
    "len_of_xs"
   ]
  },
  {
   "cell_type": "markdown",
   "id": "eab68fc0",
   "metadata": {},
   "source": [
    "The step which produced the fastest convergence is $\\eta$ = 0.1"
   ]
  },
  {
   "cell_type": "markdown",
   "id": "7319a960",
   "metadata": {},
   "source": [
    "#### 1.7)"
   ]
  },
  {
   "cell_type": "code",
   "execution_count": 135,
   "id": "d8aec144",
   "metadata": {},
   "outputs": [
    {
     "data": {
      "image/png": "[encoded data removed]",
      "text/plain": [
       "<Figure size 432x288 with 1 Axes>"
      ]
     },
     "metadata": {
      "needs_background": "light"
     },
     "output_type": "display_data"
    }
   ],
   "source": [
    "fs = list(map(f,total_xs[index]))\n",
    "plt.plot(x,fx,'r')\n",
    "plt.scatter(total_xs[index], fs)\n",
    "plt.show()"
   ]
  },
  {
   "cell_type": "markdown",
   "id": "69b6538b",
   "metadata": {},
   "source": [
    "# Question 3"
   ]
  },
  {
   "cell_type": "markdown",
   "id": "8ff57ebc",
   "metadata": {},
   "source": [
    "#### 3.1)\n"
   ]
  },
  {
   "cell_type": "code",
   "execution_count": 70,
   "id": "72c48d9e",
   "metadata": {},
   "outputs": [],
   "source": [
    "import numpy as np\n",
    "import pandas as pd\n",
    "import matplotlib.pyplot as plt\n",
    "\n",
    "\n",
    "def cross_validation_error(X, y, model, folds):\n",
    "    n_sample = len(y)\n",
    "    indecies = np.arange(n_sample)\n",
    "    np.random.shuffle(indecies)\n",
    "    fold_sizes = np.full(folds, n_sample // folds, dtype=int)\n",
    "    fold_sizes[:n_sample % folds] += 1\n",
    "    current = 0\n",
    "    train_err_lst = []\n",
    "    test_err_lst = []\n",
    "    for fold_size in fold_sizes:\n",
    "        start, stop = current, current + fold_size\n",
    "        test_indecies = indecies[start:stop]\n",
    "        test_mask = np.zeros(n_sample)\n",
    "        test_mask[test_indecies] = True\n",
    "        train_indecies = indecies[np.logical_not(test_mask)]\n",
    "\n",
    "        X_train = X[train_indecies]\n",
    "        y_train = y[train_indecies]\n",
    "        X_test = X[test_indecies]\n",
    "        y_test = y[test_indecies]\n",
    "\n",
    "        model.fit(X_train, y_train)\n",
    "        pred_train = model.predict(X_train)\n",
    "        pred_test = model.predict(X_test)\n",
    "        train_err = 1 - (np.sum(pred_train == y_train) / len(y_train))\n",
    "        test_err = 1 - (np.sum(pred_test == y_test) / len(y_test))\n",
    "\n",
    "        train_err_lst.append(train_err)\n",
    "        test_err_lst.append(test_err)\n",
    "\n",
    "        current = stop\n",
    "    avg_train_err = sum(train_err_lst) / len(train_err_lst)\n",
    "    avg_test_err = sum(test_err_lst) / len(test_err_lst)\n",
    "    return avg_train_err, avg_test_err\n"
   ]
  },
  {
   "cell_type": "markdown",
   "id": "c6d5decc",
   "metadata": {},
   "source": [
    "#### 3.2)"
   ]
  },
  {
   "cell_type": "code",
   "execution_count": 71,
   "id": "d1575e02",
   "metadata": {},
   "outputs": [],
   "source": [
    "def logistical_regression_results(X_train, y_train, X_test, y_test):\n",
    "    C = [1 / 1e-4, 1 / 1e-2, 1, 1 / 1e2, 1 / 1e4]\n",
    "    res = dict()\n",
    "    from sklearn.linear_model import LogisticRegression\n",
    "    for c in C:\n",
    "        model = LogisticRegression(C=c, max_iter=10000)\n",
    "        avg_train_err, avg_val_err = cross_validation_error(X_train, y_train, model, 5)\n",
    "        model.fit(X_train, y_train)\n",
    "        pred = model.predict(X_test)\n",
    "        test_err = 1 - (np.sum(pred == y_test) / len(y_test))\n",
    "        res['logistic_regression_lambda_' + str(1 / c)] = (avg_train_err, avg_val_err, test_err)\n",
    "    return res"
   ]
  },
  {
   "cell_type": "markdown",
   "id": "8a0dbc84",
   "metadata": {},
   "source": [
    "#### 3.3)"
   ]
  },
  {
   "cell_type": "code",
   "execution_count": 73,
   "id": "7f194b7f",
   "metadata": {},
   "outputs": [
    {
     "data": {
      "image/png": "[encoded data removed]",
      "text/plain": [
       "<Figure size 432x288 with 1 Axes>"
      ]
     },
     "metadata": {
      "needs_background": "light"
     },
     "output_type": "display_data"
    }
   ],
   "source": [
    "from sklearn.datasets import load_iris\n",
    "\n",
    "iris_data = load_iris()\n",
    "X, y = iris_data['data'], iris_data['target']\n",
    "from sklearn.model_selection import train_test_split\n",
    "\n",
    "X_train, X_test, y_train, y_test = train_test_split(X, y, test_size=0.3, random_state=7)\n",
    "res = logistical_regression_results(X_train, y_train, X_test, y_test)\n",
    "lambdas = [0.0001, 0.01, 1, 100, 10000]\n",
    "x = np.arange(len(lambdas))\n",
    "width = 0.20\n",
    "average_train_error = []\n",
    "average_val_error = []\n",
    "test_error = []\n",
    "for i in res.values():\n",
    "    average_train_error.append(i[0])\n",
    "    average_val_error.append(i[1])\n",
    "    test_error.append(i[2])\n",
    "fig, ax = plt.subplots()\n",
    "ax.bar(x + width, average_train_error, width, label=\"Average Train Error\")\n",
    "ax.bar(x, average_val_error, width, label=\"Average Validation Error\")\n",
    "ax.bar(x - width, test_error, width, label=\"Test Error\")\n",
    "ax.set_ylabel(\"Error Rate\")\n",
    "ax.set_xlabel(\"Lambda\")\n",
    "ax.set_title(\"Error rate over different lambda values\")\n",
    "ax.set_xticks(x)\n",
    "ax.set_xticklabels(lambdas)\n",
    "ax.legend()\n",
    "fig.tight_layout()\n",
    "plt.show()"
   ]
  },
  {
   "cell_type": "markdown",
   "id": "3fb20250",
   "metadata": {},
   "source": [
    "According to the CV $\\lambda = 1$ is the best parameter, that is because the error rate on both the train set and the validation set is the lowest among all the parameters, also the difference between them is the lowest which indicates low overfitting, so the model produces approximatly the same results for both sets. <br>\n",
    "For the test set $\\lambda = 0.1$ and $\\lambda = 1$ are the best parameters as they produce the lowest error rate. We can see that $\\lambda = 1$ produces the overall best results, and it is not surprising to see that the model chosen by the CV is the best model overall, since it is designed to prevent overfitting and creating a biased model."
   ]
  }
 ],
 "metadata": {
  "kernelspec": {
   "display_name": "Python 3",
   "language": "python",
   "name": "python3"
  },
  "language_info": {
   "codemirror_mode": {
    "name": "ipython",
    "version": 3
   },
   "file_extension": ".py",
   "mimetype": "text/x-python",
   "name": "python",
   "nbconvert_exporter": "python",
   "pygments_lexer": "ipython3",
   "version": "3.9.2"
  }
 },
 "nbformat": 4,
 "nbformat_minor": 5
}