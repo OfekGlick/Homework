{
 "cells": [
  {
   "cell_type": "markdown",
   "id": "25debc97",
   "metadata": {},
   "source": [
    "# Question 1\n",
    "#### 1.1) \n",
    "chosen values are: a=3, b=4, c=2.2"
   ]
  },
  {
   "cell_type": "code",
   "execution_count": 18,
   "id": "215c9f00",
   "metadata": {},
   "outputs": [],
   "source": [
    "import matplotlib.pyplot as plt\n",
    "import numpy as np\n",
    "a = 3\n",
    "b = 4\n",
    "c = 2.2\n",
    "f = lambda x: a + b*x + c*(x**2)\n",
    "x = np.linspace(-10,10)\n",
    "fx = np.array(list(map(f,x)))"
   ]
  },
  {
   "cell_type": "markdown",
   "id": "dbd30243",
   "metadata": {},
   "source": [
    "#### 1.2)"
   ]
  },
  {
   "cell_type": "code",
   "execution_count": 19,
   "id": "40583474",
   "metadata": {},
   "outputs": [
    {
     "data": {
      "image/png": "[encoded data removed]",
      "text/plain": [
       "<Figure size 432x288 with 1 Axes>"
      ]
     },
     "metadata": {
      "needs_background": "light"
     },
     "output_type": "display_data"
    }
   ],
   "source": [
    "plt.plot(x,fx)\n",
    "plt.show()"
   ]
  },
  {
   "cell_type": "markdown",
   "id": "00bacc06",
   "metadata": {},
   "source": [
    "#### 1.3"
   ]
  },
  {
   "cell_type": "code",
   "execution_count": 22,
   "id": "b3368b8d",
   "metadata": {},
   "outputs": [],
   "source": [
    "grad_f = lambda x: b + 2*c*x"
   ]
  },
  {
   "cell_type": "markdown",
   "id": "b2a5e6e8",
   "metadata": {},
   "source": [
    "The minimum point for the function is -0.9090909"
   ]
  },
  {
   "cell_type": "markdown",
   "id": "b199feb6",
   "metadata": {},
   "source": [
    "#### 1.4"
   ]
  },
  {
   "cell_type": "code",
   "execution_count": 25,
   "id": "566254c9",
   "metadata": {},
   "outputs": [],
   "source": [
    "def grad_update(grad,x,step):\n",
    "    return x-step*grad(x)"
   ]
  },
  {
   "cell_type": "markdown",
   "id": "67e5c5e5",
   "metadata": {},
   "source": [
    "#### 1.5)"
   ]
  },
  {
   "cell_type": "code",
   "execution_count": 27,
   "id": "f1c5168f",
   "metadata": {},
   "outputs": [],
   "source": [
    "x_k = 10\n",
    "while grad_f(x_k) >= 1e-6:\n",
    "    x_k = grad_update(grad_f,x_k,0.01)"
   ]
  },
  {
   "cell_type": "code",
   "execution_count": 28,
   "id": "83f12a00",
   "metadata": {},
   "outputs": [
    {
     "data": {
      "text/plain": [
       "-0.9090906912205658"
      ]
     },
     "execution_count": 28,
     "metadata": {},
     "output_type": "execute_result"
    }
   ],
   "source": [
    "x_k"
   ]
  },
  {
   "cell_type": "markdown",
   "id": "8f036c0f",
   "metadata": {},
   "source": [
    "The value we got is really close to the value we recieved from an anylitical solution. The difference between the results is from the size of the step which may not always converge exactly on the minimum. There are other factors which may contribute to the difference such as floating point precision, but that is not necessarily what happend here."
   ]
  },
  {
   "cell_type": "markdown",
   "id": "6eacf34c",
   "metadata": {},
   "source": [
    "#### 1.6)"
   ]
  },
  {
   "cell_type": "code",
   "execution_count": 58,
   "id": "2835c828",
   "metadata": {},
   "outputs": [],
   "source": [
    "steps = [0.001,0.01, 0.1, 1,100,10000,2000000000]\n",
    "minimum = [1e10]\n",
    "for step in steps:\n",
    "    xs = []\n",
    "    x_k = 10\n",
    "    while grad_f(x_k) >= 1e-6:\n",
    "        xs.append(x_k)\n",
    "        x_k = grad_update(grad_f,x_k,step)\n",
    "    if xs[-1] <= minimum[-1]:\n",
    "        minimum = xs.copy()"
   ]
  },
  {
   "cell_type": "markdown",
   "id": "e00d79d5",
   "metadata": {},
   "source": [
    "The T which produced the closest approximations is T = 0.01"
   ]
  },
  {
   "cell_type": "markdown",
   "id": "afc99e3d",
   "metadata": {},
   "source": [
    "#### 1.7)"
   ]
  },
  {
   "cell_type": "code",
   "execution_count": 63,
   "id": "3456239a",
   "metadata": {},
   "outputs": [
    {
     "data": {
      "image/png": "[encoded data removed]",
      "text/plain": [
       "<Figure size 432x288 with 1 Axes>"
      ]
     },
     "metadata": {
      "needs_background": "light"
     },
     "output_type": "display_data"
    }
   ],
   "source": [
    "fs = list(map(f,minimum))\n",
    "plt.plot(x,fx,'r')\n",
    "plt.scatter(minimum, fs)\n",
    "plt.show()"
   ]
  }
 ],
 "metadata": {
  "kernelspec": {
   "display_name": "Python 3",
   "language": "python",
   "name": "python3"
  },
  "language_info": {
   "codemirror_mode": {
    "name": "ipython",
    "version": 3
   },
   "file_extension": ".py",
   "mimetype": "text/x-python",
   "name": "python",
   "nbconvert_exporter": "python",
   "pygments_lexer": "ipython3",
   "version": "3.9.2"
  }
 },
 "nbformat": 4,
 "nbformat_minor": 5
}
