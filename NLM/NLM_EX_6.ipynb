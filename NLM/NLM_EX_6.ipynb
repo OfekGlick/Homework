{
 "cells": [
  {
   "cell_type": "markdown",
   "id": "4fdb157d",
   "metadata": {},
   "source": [
    "# Question 1\n",
    "#### 1.3)"
   ]
  },
  {
   "cell_type": "code",
   "execution_count": 40,
   "id": "4e9b8872",
   "metadata": {},
   "outputs": [],
   "source": [
    "def create_matrix(x):\n",
    "    n,_ = A.shape\n",
    "    mat = np.zeros((n,n))\n",
    "    lst = []\n",
    "    for a_i,b_i in zip(A,b):\n",
    "        lst.append(1/(a_i.dot(x) - b_i)**2)    \n",
    "    np.fill_diagonal(mat,lst)\n",
    "    return mat"
   ]
  },
  {
   "cell_type": "code",
   "execution_count": 41,
   "id": "cca1a221",
   "metadata": {},
   "outputs": [],
   "source": [
    "def analytic_center(A, b, x0):\n",
    "    import numpy as np\n",
    "    from numpy import log\n",
    "    s, alpha, beta = 2, 0.25, 0.5\n",
    "    if sum(np.less(A@x0,b)) == len(b):\n",
    "        pass\n",
    "    else:\n",
    "        raise ValueError(\"x0 not in range\")\n",
    "    n = x0.shape[0]\n",
    "    f_help = lambda b_i,a_i,x: np.log(b_i - a_i.dot(x))\n",
    "    f = lambda x: - np.sum(np.array([f_help(b_i,a_i,x) for b_i, a_i in zip(b,A)]))\n",
    "    gf = lambda x: A.T @ np.array([-1/(a_i.dot(x) - b_i) for a_i, b_i in zip(A,b)])\n",
    "    hf = lambda x: A.T @ create_matrix(x) @ A\n",
    "    xs = np.array(x0.T)\n",
    "    fs = [f(x0)]\n",
    "    x_k = x0\n",
    "    while np.linalg.norm(gf(x_k)) >= 1e-6:\n",
    "        d_k = np.linalg.solve(hf(x_k), -gf(x_k))\n",
    "        t_k = s\n",
    "        while f(x_k + t_k * d_k) >= f(x_k) + alpha * t_k * (gf(x_k).T @ d_k)[0][0]:\n",
    "            t_k = beta * t_k\n",
    "        x_k = x_k + t_k * d_k\n",
    "        fs.append(f(x_k))\n",
    "        xs = np.vstack((xs,x_k.T[0]))\n",
    "    return xs.T, fs"
   ]
  },
  {
   "cell_type": "code",
   "execution_count": 42,
   "id": "a3ca75d7",
   "metadata": {},
   "outputs": [],
   "source": [
    "import numpy as np\n",
    "A = np.array([[2,10],[1,0],[-1,3],[-1,-1]])\n",
    "b = np.array([[1],[0],[2],[2]])\n",
    "a,b = analytic_center(A,b,np.array([[-1.99],[0]]))"
   ]
  },
  {
   "cell_type": "markdown",
   "id": "6e882f01",
   "metadata": {},
   "source": [
    "# Question 2\n",
    "#### 2.1)"
   ]
  },
  {
   "cell_type": "code",
   "execution_count": 122,
   "id": "3c982155",
   "metadata": {},
   "outputs": [],
   "source": [
    "def hybrid_newton(f,gf,hf,lsearch,x0,eps):\n",
    "    from time import time\n",
    "    fs = []\n",
    "    gs = []\n",
    "    ts = []\n",
    "    newton = []\n",
    "    start = time()\n",
    "    x_k = x0\n",
    "    while np.linalg.norm(gf(*x_k)) >= eps:\n",
    "        fs.append(f(*x_k))\n",
    "        gs.append(np.linalg.norm(gf(*x_k)))\n",
    "        ts.append(time()-start)\n",
    "        try:\n",
    "            np.linalg.cholesky(hf(*x_k))\n",
    "            d_k = np.linalg.solve(hf(*x_k), - gf(*x_k))\n",
    "            t_k = lsearch(x_k, gf(*x_k), [d_k, 'newton'])\n",
    "            x_k += t_k * d_k\n",
    "            newton.append(1)\n",
    "        except:\n",
    "            d_k = -gf(*x_k)\n",
    "            t_k = lsearch(x_k, gf(*x_k), [d_k, 'grad'])\n",
    "            x_k = x_k + t_k * d_k\n",
    "            newton.append(0)\n",
    "    fs = np.array(fs)\n",
    "    gs = np.array(gs)\n",
    "    return x_k, fs, gs, ts, newton"
   ]
  },
  {
   "cell_type": "markdown",
   "id": "cac8c57c",
   "metadata": {},
   "source": [
    "#### 2.2)"
   ]
  },
  {
   "cell_type": "code",
   "execution_count": 123,
   "id": "62cb1e90",
   "metadata": {},
   "outputs": [],
   "source": [
    "def hybrid_back(f, alpha, beta, s):\n",
    "    def lsearch(x_k, g_k, direction):\n",
    "        if direction[1] == 'grad':\n",
    "            t_k = s\n",
    "            while f(*(x_k - t_k * g_k)) >= f(*x_k) - alpha * t_k * np.linalg.norm(g_k) ** 2:\n",
    "                t_k *= beta \n",
    "            return t_k\n",
    "        else:\n",
    "            return 1\n",
    "    return lsearch"
   ]
  },
  {
   "cell_type": "markdown",
   "id": "11f5a8d8",
   "metadata": {},
   "source": [
    "#### 2.3)"
   ]
  },
  {
   "cell_type": "code",
   "execution_count": 130,
   "id": "f6c58047",
   "metadata": {},
   "outputs": [],
   "source": [
    "def generic_grad(f, gf, lsearch, x0, eps):\n",
    "    from time import time\n",
    "    fs = []\n",
    "    gs = []\n",
    "    ts = []\n",
    "    start = time()\n",
    "    x_k = x0\n",
    "    fs.append(f(*x_k))\n",
    "    gs.append(np.linalg.norm(gf(*x_k)))\n",
    "    ts.append(time()-start)\n",
    "    while True:\n",
    "        t = lsearch(f, x_k, gf(*x_k))\n",
    "        x_k_1 = x_k - t * gf(*x_k)\n",
    "        fs.append(f(*x_k_1))\n",
    "        gs.append(np.linalg.norm(gf(*x_k_1)))\n",
    "        ts.append(time()-start)\n",
    "        if np.linalg.norm(gf(*x_k)) < eps:\n",
    "            break\n",
    "        x_k = x_k_1\n",
    "    fs = np.array(fs)\n",
    "    gs = np.array(gs)\n",
    "    \n",
    "    return x_k_1, fs, gs, ts"
   ]
  },
  {
   "cell_type": "code",
   "execution_count": 131,
   "id": "bbc60d38",
   "metadata": {},
   "outputs": [],
   "source": [
    "def back(alpha, beta, s):\n",
    "    if alpha <= 0 or beta <= 0 or alpha >= 1 or beta >= 1 or s <= 0:\n",
    "        raise ValueError(\"Incompatible values.\")\n",
    "\n",
    "    def inner_func(f, xk, gk):\n",
    "        t = s\n",
    "        while f(*(xk - t * gk)) >= f(*xk) - alpha * t * np.linalg.norm(gk) ** 2:\n",
    "            t *= beta\n",
    "        return t\n",
    "\n",
    "    return inner_func"
   ]
  },
  {
   "cell_type": "code",
   "execution_count": 132,
   "id": "2e27d4c0",
   "metadata": {},
   "outputs": [],
   "source": [
    "alpha = 0.25\n",
    "s = 1\n",
    "beta = 0.5\n",
    "f = lambda x,y: float(x**4) + float(y**4) - float(36*x*y)\n",
    "gf = lambda x,y: np.array([4 * x**3 - 36 * y, 4 * y**3 - 36 * x], dtype = 'float')\n",
    "hf = lambda x,y: np.array([[12 * x**2, -36],[-36, 12 * y**2]], dtype = 'float')\n",
    "\n",
    "x1, fs1, gs1, ts1, newton = hybrid_newton(f,gf,hf,hybrid_back(f,alpha,beta,s),np.array([200,0]),1e-6)\n",
    "x2, fs2, gs2, ts2 = generic_grad(f,gf, back(alpha, beta, s), np.array([200,0]),1e-6)"
   ]
  },
  {
   "cell_type": "code",
   "execution_count": 137,
   "id": "261ba750",
   "metadata": {},
   "outputs": [
    {
     "data": {
      "image/png": "[encoded data removed]",
      "text/plain": [
       "<Figure size 432x288 with 1 Axes>"
      ]
     },
     "metadata": {
      "needs_background": "light"
     },
     "output_type": "display_data"
    }
   ],
   "source": [
    "import matplotlib.pyplot as plt\n",
    "plt.semilogy(fs1+162, label=\"Hybrid Newton\")\n",
    "plt.semilogy(fs2+162, label=\"Armijo Gradient\")\n",
    "plt.legend()\n",
    "plt.show()"
   ]
  },
  {
   "cell_type": "code",
   "execution_count": null,
   "id": "ea86167b",
   "metadata": {},
   "outputs": [],
   "source": []
  },
  {
   "cell_type": "code",
   "execution_count": null,
   "id": "e6945353",
   "metadata": {},
   "outputs": [],
   "source": []
  }
 ],
 "metadata": {
  "kernelspec": {
   "display_name": "Python 3",
   "language": "python",
   "name": "python3"
  },
  "language_info": {
   "codemirror_mode": {
    "name": "ipython",
    "version": 3
   },
   "file_extension": ".py",
   "mimetype": "text/x-python",
   "name": "python",
   "nbconvert_exporter": "python",
   "pygments_lexer": "ipython3",
   "version": "3.9.2"
  }
 },
 "nbformat": 4,
 "nbformat_minor": 5
}
