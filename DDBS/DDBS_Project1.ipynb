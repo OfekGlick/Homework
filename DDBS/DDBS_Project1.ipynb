{
 "cells": [
  {
   "cell_type": "code",
   "execution_count": 37,
   "id": "24f3a628",
   "metadata": {},
   "outputs": [],
   "source": [
    "import os\n",
    "import csv\n",
    "import pandas as pd"
   ]
  },
  {
   "cell_type": "markdown",
   "id": "d46911a1",
   "metadata": {},
   "source": [
    "# Our site DB"
   ]
  },
  {
   "cell_type": "code",
   "execution_count": 21,
   "id": "a8bb17fd",
   "metadata": {},
   "outputs": [],
   "source": [
    "import pyodbc\n",
    "X = 29\n",
    "Y = 11\n",
    "Z = 59\n",
    "conn = pyodbc.connect('DRIVER={SQL Server};'\n",
    "                      'SERVER=technionddscourse.database.windows.net;'\n",
    "                      'DATABASE=ofek0glick;'\n",
    "                      'UID=ofek0glick;'\n",
    "                      'PWD=Qwerty12!')\n",
    "cursor = conn.cursor()\n",
    "bigserver = pyodbc.connect('DRIVER={SQL Server};'\n",
    "                      'SERVER=technionddscourse.database.windows.net;'\n",
    "                      'DATABASE=dbteam;'\n",
    "                      'UID=dbteam;'\n",
    "                      'PWD=Qwerty12!')\n",
    "bigserver_cursor = bigserver.cursor()"
   ]
  },
  {
   "cell_type": "code",
   "execution_count": 23,
   "id": "93df39f4",
   "metadata": {},
   "outputs": [
    {
     "data": {
      "text/plain": [
       "[(3, 'ido0z'),\n",
       " (4, 'orrubin'),\n",
       " (5, 'yarinbs'),\n",
       " (6, 'ofri0hefetz'),\n",
       " (7, 'rotm'),\n",
       " (8, 'roeed'),\n",
       " (9, 'd0yehezkel'),\n",
       " (10, 'dor0zehavi'),\n",
       " (11, 'rubensasson'),\n",
       " (12, 'yam0berent'),\n",
       " (13, 'dr0lior'),\n",
       " (14, 'noam0sprei'),\n",
       " (15, 'dahandaniel'),\n",
       " (16, 'lior0motola'),\n",
       " (17, 'hanna0najjar'),\n",
       " (18, 'dmitryk'),\n",
       " (19, 'gili0gilad'),\n",
       " (20, 'matan0so'),\n",
       " (21, 'hilamalka'),\n",
       " (22, 'tmyr'),\n",
       " (23, 'rompaz'),\n",
       " (24, 'michael0ukh'),\n",
       " (25, 'eitan0g'),\n",
       " (26, 'saharad'),\n",
       " (27, 'lanahaj'),\n",
       " (28, 'arieln'),\n",
       " (29, 'ofek0glick'),\n",
       " (30, 'uriel0co'),\n",
       " (31, 'noam0shamir'),\n",
       " (32, 'eyalmarantz'),\n",
       " (33, 'alon0shiri'),\n",
       " (34, 'omrio'),\n",
       " (35, 'ilanit0sobol'),\n",
       " (36, 'ef'),\n",
       " (37, 'urimoser'),\n",
       " (38, 'yannay0alon')]"
      ]
     },
     "execution_count": 23,
     "metadata": {},
     "output_type": "execute_result"
    }
   ],
   "source": [
    "bigserver_cursor.execute(\"select * from categoriestosites\")\n",
    "data = bigserver_cursor.fetchall()\n",
    "data"
   ]
  },
  {
   "cell_type": "markdown",
   "id": "e894590f",
   "metadata": {},
   "source": [
    "### Methods"
   ]
  },
  {
   "cell_type": "code",
   "execution_count": 25,
   "id": "ee96d5d2",
   "metadata": {},
   "outputs": [],
   "source": [
    "def drop_tables():\n",
    "    try:\n",
    "        cursor.execute(\"drop table Locks\")\n",
    "        cursor.execute(\"drop table Log\")\n",
    "        cursor.execute(\"drop table ProductsOrdered\")\n",
    "        cursor.execute(\"drop table ProductsInventory\")\n",
    "        cursor.commit()\n",
    "        print(\"done\")\n",
    "    except:\n",
    "        print(\"nothing to delete\")"
   ]
  },
  {
   "cell_type": "code",
   "execution_count": 24,
   "id": "21361551",
   "metadata": {},
   "outputs": [],
   "source": [
    "def create_tables():\n",
    "    cursor.execute(\"\"\"CREATE TABLE ProductsInventory (\n",
    "        productID integer primary key,\n",
    "        inventory integer ,\n",
    "        check (inventory >= 0)); \"\"\")\n",
    "    cursor.execute(\"\"\"CREATE TABLE ProductsOrdered (\n",
    "        transactionID varchar(30) ,\n",
    "        productID integer ,\n",
    "        amount integer,\n",
    "        check (amount >= 1),\n",
    "        foreign key(productID) references ProductsInventory(productID)\n",
    "        on delete cascade,\n",
    "        primary key(transactionID, productID)\n",
    "        ); \"\"\")\n",
    "    cursor.execute(\"\"\"CREATE TABLE Log (\n",
    "        rowID integer IDENTITY(1,1) primary key,\n",
    "        timestamp datetime ,\n",
    "        relation varchar(30),\n",
    "        transactionID varchar(30),\n",
    "        productID integer,\n",
    "        action varchar(20),\n",
    "        record varchar(2500),\n",
    "        CHECK(relation IN ('ProductsInventory', 'ProductsOrdered','Locks')),\n",
    "        CHECK(action IN ('read', 'update','insert','delete')),\n",
    "        foreign key(productID) references ProductsInventory(productID)\n",
    "        on delete cascade); \"\"\")\n",
    "    cursor.execute(\"\"\"CREATE TABLE Locks (\n",
    "        transactionID varchar(30),\n",
    "        productID integer ,\n",
    "        lockType varchar(10),\n",
    "        CHECK(lockType IN ('read', 'write')),\n",
    "        foreign key(productID) references ProductsInventory(productID)\n",
    "        on delete cascade,\n",
    "        primary key(transactionID,productID,lockType) \n",
    "        ); \"\"\")\n",
    "    cursor.commit()\n",
    " "
   ]
  },
  {
   "cell_type": "markdown",
   "id": "259042da",
   "metadata": {},
   "source": [
    "### Helper method\n",
    "Updates the log about an action of aa transaction"
   ]
  },
  {
   "cell_type": "code",
   "execution_count": 26,
   "id": "5dd857f5",
   "metadata": {},
   "outputs": [],
   "source": [
    "def update_log(transactionID,relation, productID,action, record):\n",
    "    cursor.execute(f\"\"\"insert into Log (timestamp,relation,transactionID,productID,action,record) values\n",
    "                   (CURRENT_TIMESTAMP,{transactionID},{relation},{productID},{action},{record})\"\"\")\n",
    "    cursor.commit()"
   ]
  },
  {
   "cell_type": "markdown",
   "id": "a427af89",
   "metadata": {},
   "source": [
    "### Helper method\n",
    "Given a transactions request for a lock, either grants it and updates the lock relation or doesn't grant it and stops "
   ]
  },
  {
   "cell_type": "code",
   "execution_count": 27,
   "id": "df8b27bd",
   "metadata": {},
   "outputs": [],
   "source": [
    "def lock_management(transactionID, productID,action,lock_type):\n",
    "    if action == 'acquire':\n",
    "        get_locks = f\"\"\" select * from Locks where transactionID <> {transactionID} \n",
    "                                                      and productID = {productID}\"\"\"\n",
    "        update_log(transactionID, 'Locks',productID, 'read', get_locks)\n",
    "        cursor.execute(get_locks)\n",
    "        locks = cursor.fetchall()\n",
    "        give_lock = f\"\"\"insert into Locks (transactionID, productID, lockType) values\n",
    "                        ({transactionID},{productID},{lock_type})\"\"\"\n",
    "        if len(locks) == 0:\n",
    "            update_log(transactionID, 'Locks', productID, 'insert', give_lock)\n",
    "            cursor.execute(give_lock)\n",
    "            return True\n",
    "        else:\n",
    "            if lock_type == 'write':\n",
    "                return False\n",
    "            else:\n",
    "                locks = list(zip(*locks))[2]\n",
    "                if 'write' in locks:\n",
    "                    return False\n",
    "                else:\n",
    "                    update_log(transactionID, 'Locks', productID, 'insert', give_lock)\n",
    "                    cursor.execute(give_lock)\n",
    "                    return True\n",
    "    else:\n",
    "        release_lock = f\"\"\"DELETE FROM Locks WHERE transactionID={transactionID}\n",
    "                                                and productID={productID}\n",
    "                                                and lockType={lock_type}\"\"\"\n",
    "        update_log(transactionID, 'Locks', productID, 'delete', release_lock)\n",
    "        cursor.execute(release_lock)"
   ]
  },
  {
   "cell_type": "code",
   "execution_count": 32,
   "id": "21ac2084",
   "metadata": {},
   "outputs": [],
   "source": [
    "def update_inventory(transactionID):\n",
    "    get_inv = \"select * from ProductsInventory\"\n",
    "#     REQUEST READ LOCK!!!!!!!!!!!!!!!!!!!\n",
    "    cursor.execute(get_inv)\n",
    "#     RELEASE READ LOCK!!!!!!!!!!!!!!!!!!!\n",
    "    data = cursor.fetchall()\n",
    "    inven = [60 if i == 1 else 53 for i in range(1,Y+1)]\n",
    "#     REQUEST WRITE LOCK!!!!!!!!!!!!!!!!!!!\n",
    "    if len(data) == 0:\n",
    "        for i,amount in enumerate(inven):\n",
    "            query = f\"\"\"insert into ProductsInventory (productID, inventory) values\n",
    "                        ({i+1},{amount})\"\"\"\n",
    "            cursor.execute(query)\n",
    "    else:\n",
    "        for i,amount in enumerate(inven):\n",
    "            query = f\"\"\"update ProductsInventory \n",
    "                        set inventory = {amount}\n",
    "                        where productID = {i+1}\"\"\"\n",
    "            cursor.execute(query)\n",
    "    cursor.commit()\n",
    "#     RELEASE WRITE LOCK!!!!!!!!!!!!!!!!!!!"
   ]
  },
  {
   "cell_type": "code",
   "execution_count": 33,
   "id": "82844c82",
   "metadata": {},
   "outputs": [
    {
     "name": "stdout",
     "output_type": "stream",
     "text": [
      "done\n"
     ]
    }
   ],
   "source": [
    "drop_tables()"
   ]
  },
  {
   "cell_type": "code",
   "execution_count": 34,
   "id": "bbc832c4",
   "metadata": {},
   "outputs": [],
   "source": [
    "create_tables()"
   ]
  },
  {
   "cell_type": "code",
   "execution_count": 35,
   "id": "119f7997",
   "metadata": {},
   "outputs": [
    {
     "name": "stdout",
     "output_type": "stream",
     "text": [
      "inserting item 1 with amount 60\n",
      "inserting item 2 with amount 53\n",
      "inserting item 3 with amount 53\n",
      "inserting item 4 with amount 53\n",
      "inserting item 5 with amount 53\n",
      "inserting item 6 with amount 53\n",
      "inserting item 7 with amount 53\n",
      "inserting item 8 with amount 53\n",
      "inserting item 9 with amount 53\n",
      "inserting item 10 with amount 53\n",
      "inserting item 11 with amount 53\n"
     ]
    }
   ],
   "source": [
    "update_inventory(\"ofek\")"
   ]
  },
  {
   "cell_type": "code",
   "execution_count": 36,
   "id": "fe1176d5",
   "metadata": {},
   "outputs": [],
   "source": [
    "def manage_transactions(T):\n",
    "    pass"
   ]
  },
  {
   "cell_type": "code",
   "execution_count": null,
   "id": "f0995ad4",
   "metadata": {},
   "outputs": [],
   "source": [
    "def build_transaction(order):\n",
    "    "
   ]
  },
  {
   "cell_type": "code",
   "execution_count": 74,
   "id": "7c939b80",
   "metadata": {},
   "outputs": [
    {
     "name": "stdout",
     "output_type": "stream",
     "text": [
      "['29', '8', '1']\n",
      "['29', '9', '1']\n",
      "['29', '10', '1']\n",
      "['29', '11', '13']\n",
      "\n",
      "['29', '1', '50']\n",
      "['29', '3', '20']\n",
      "['29', '10', '42']\n",
      "\n"
     ]
    }
   ],
   "source": [
    "# os.chdir('orders')\n",
    "for order in os.listdir():\n",
    "    with open(order, encoding='utf-8-sig') as curr_order:\n",
    "        reader = csv.reader(curr_order)\n",
    "        build_transaction(csv)\n",
    "        build_query\n",
    "        "
   ]
  },
  {
   "cell_type": "code",
   "execution_count": null,
   "id": "8caea31a",
   "metadata": {},
   "outputs": [],
   "source": []
  }
 ],
 "metadata": {
  "kernelspec": {
   "display_name": "Python 3",
   "language": "python",
   "name": "python3"
  },
  "language_info": {
   "codemirror_mode": {
    "name": "ipython",
    "version": 3
   },
   "file_extension": ".py",
   "mimetype": "text/x-python",
   "name": "python",
   "nbconvert_exporter": "python",
   "pygments_lexer": "ipython3",
   "version": "3.9.2"
  }
 },
 "nbformat": 4,
 "nbformat_minor": 5
}
